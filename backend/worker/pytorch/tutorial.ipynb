{
 "cells": [
  {
   "cell_type": "code",
   "execution_count": 1,
   "metadata": {},
   "outputs": [
    {
     "name": "stdout",
     "output_type": "stream",
     "text": [
      "empty: tensor([[0., 0., 0.],\n",
      "        [0., 0., 0.]])\n",
      "rand: tensor([[0.6189, 0.7319, 0.9119],\n",
      "        [0.2403, 0.3462, 0.0097]])\n",
      "zeros: tensor([[0., 0., 0.],\n",
      "        [0., 0., 0.]])\n",
      "ones(.., dtype=float16): tensor([[1., 1., 1.],\n",
      "        [1., 1., 1.]], dtype=torch.float64)\n",
      "tensor([2.5000, 0.1000])\n"
     ]
    }
   ],
   "source": [
    "import torch\n",
    "\n",
    "x = torch.empty(2, 3)\n",
    "print(\"empty:\", x)\n",
    "\n",
    "x = torch.rand(2, 3)\n",
    "print(\"rand:\", x)\n",
    "\n",
    "x = torch.zeros(2, 3)\n",
    "print(\"zeros:\", x)\n",
    "\n",
    "# dtype: int, double, float16\n",
    "x = torch.ones(2, 3, dtype=torch.double)\n",
    "print(\"ones(.., dtype=float16):\", x)\n",
    "\n",
    "x = torch.tensor([2.5, .1])\n",
    "print(x)"
   ]
  },
  {
   "cell_type": "code",
   "execution_count": 2,
   "metadata": {},
   "outputs": [
    {
     "name": "stdout",
     "output_type": "stream",
     "text": [
      "tensor([[0.8380, 1.1233],\n",
      "        [1.1290, 1.1018]])\n",
      "tensor([[0.8380, 1.1233],\n",
      "        [1.1290, 1.1018]])\n",
      "tensor([[0.8380, 1.1233],\n",
      "        [1.1290, 1.1018]])\n"
     ]
    },
    {
     "data": {
      "text/plain": [
       "tensor([[-0.3799, -0.6608],\n",
       "        [-0.6776, -0.9190]])"
      ]
     },
     "execution_count": 2,
     "metadata": {},
     "output_type": "execute_result"
    }
   ],
   "source": [
    "import torch\n",
    "\n",
    "x = torch.rand(2,2)\n",
    "y = torch.rand(2,2)\n",
    "z = x+y\n",
    "print(z)\n",
    "z = torch.add(x,y)\n",
    "print(z)\n",
    "\n",
    "\n",
    "# trailing underscore: in place operation (modity variable)\n",
    "y.add_(x) # y = x + y\n",
    "print(y)\n",
    "\n",
    "z = x-y\n",
    "z = torch.sub(x,y)\n",
    "x.sub_(y) # x = x - y\n",
    "\n",
    "z = x*y\n",
    "z = torch.mul(x,y)\n",
    "x.mul_(y) # x = x * y\n",
    "\n",
    "z = x/y\n",
    "z = torch.div(x,y)\n",
    "x.div_(y) # x = x / y\n"
   ]
  },
  {
   "cell_type": "code",
   "execution_count": null,
   "metadata": {},
   "outputs": [],
   "source": [
    "import torch\n",
    "\n",
    "# slicing\n",
    "x = torch.rand(5, 3)\n",
    "# first column\n",
    "print(x[:, 0])\n",
    "\n",
    "# first row\n",
    "print(x[0, :])\n",
    "\n",
    "# second row\n",
    "print(x[1, :])\n",
    "\n",
    "# element(1,1) as a tensor\n",
    "print(x[1,1])\n",
    "# element(1,1) as an actual value\n",
    "print(x[1,1].item())\n"
   ]
  },
  {
   "cell_type": "code",
   "execution_count": null,
   "metadata": {},
   "outputs": [],
   "source": [
    "import torch\n",
    "\n",
    "# reshape\n",
    "x = torch.rand(4,4)\n",
    "print(x)\n",
    "y = x.view(16)\n",
    "print(y)\n",
    "\n",
    "# don't specify in first dimension, then pytorch determines for you\n",
    "# torch.Size([2, 8])\n",
    "y = x.view(-1, 8)\n",
    "print(y.size())\n",
    "\n"
   ]
  },
  {
   "cell_type": "code",
   "execution_count": 1,
   "metadata": {},
   "outputs": [
    {
     "name": "stdout",
     "output_type": "stream",
     "text": [
      "tensor([1., 1., 1., 1., 1.])\n",
      "<class 'torch.Tensor'>\n",
      "[1. 1. 1. 1. 1.]\n",
      "<class 'numpy.ndarray'>\n",
      "tensor([2., 2., 2., 2., 2.])\n",
      "[2. 2. 2. 2. 2.]\n",
      "[1. 1. 1. 1. 1.]\n",
      "tensor([1., 1., 1., 1., 1.], dtype=torch.float64)\n",
      "[2. 2. 2. 2. 2.]\n",
      "tensor([2., 2., 2., 2., 2.], dtype=torch.float64)\n"
     ]
    }
   ],
   "source": [
    "# Convert between numpy <-> torch.tensor\n",
    "import torch\n",
    "import numpy as np\n",
    "\n",
    "# 1. torch -> numpy\n",
    "a = torch.ones(5)\n",
    "print(a)\n",
    "print(type(a))\n",
    "\n",
    "b = a.numpy()\n",
    "print(b)\n",
    "print(type(b))\n",
    "\n",
    "# if tensor is on CPU and not on GPU,\n",
    "# object will be on the same location\n",
    "# CHANGING `b` will also change `a` and vice versa!\n",
    "a.add_(1)\n",
    "print(a)\n",
    "print(b)\n",
    "\n",
    "# 2. numpy -> torch\n",
    "a = np.ones(5)\n",
    "print(a)\n",
    "b = torch.from_numpy(a)\n",
    "print(b)\n",
    "a += 1\n",
    "print(a)\n",
    "print(b)\n",
    "\n",
    "if torch.cuda.is_available():\n",
    "    print(torch.cuda.is_available())\n",
    "    # specify cuda device\n",
    "    device = torch.device(\"cuda\")\n",
    "    x = torch.ones(5, device=device)\n",
    "    y = torch.ones(5)\n",
    "    y = y.to(device)\n",
    "    # performed on GPU which is much faster\n",
    "    z = x+y\n",
    "    # ERORR: NUMPY CAN only handle CPU tensor\n",
    "    # z.numpy()\n",
    "    z = z.to(\"cpu\")\n"
   ]
  },
  {
   "cell_type": "code",
   "execution_count": 2,
   "metadata": {},
   "outputs": [
    {
     "name": "stdout",
     "output_type": "stream",
     "text": [
      "tensor([1., 1., 1., 1., 1.], requires_grad=True)\n"
     ]
    }
   ],
   "source": [
    "import torch\n",
    "import numpy as np\n",
    "\n",
    "x = torch.ones(5, requires_grad=True)\n",
    "print(x)"
   ]
  }
 ],
 "metadata": {
  "kernelspec": {
   "display_name": ".venv",
   "language": "python",
   "name": "python3"
  },
  "language_info": {
   "codemirror_mode": {
    "name": "ipython",
    "version": 3
   },
   "file_extension": ".py",
   "mimetype": "text/x-python",
   "name": "python",
   "nbconvert_exporter": "python",
   "pygments_lexer": "ipython3",
   "version": "3.12.3"
  }
 },
 "nbformat": 4,
 "nbformat_minor": 2
}
